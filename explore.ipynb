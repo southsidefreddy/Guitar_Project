{
 "cells": [
  {
   "attachments": {},
   "cell_type": "markdown",
   "metadata": {},
   "source": [
    "# **Guitars**\n",
    "\n",
    "The dataset was gathered from https://www.kaggle.com/datasets/arslankas/guitars\n",
    "The section of \"Electric Guitar\" was web scrapped using simply HTTPX and parsed using Selectolax\n",
    "\n",
    "It contains three columns:\n",
    "\n",
    "1. Manufacturer\n",
    "2. Title\n",
    "3. Price (Euro)\n",
    "\n",
    "It contains five hundred and ninety-one rows."
   ]
  },
  {
   "cell_type": "code",
   "execution_count": 7,
   "metadata": {},
   "outputs": [
    {
     "name": "stdout",
     "output_type": "stream",
     "text": [
      "      manufacturer                           title  price\n",
      "0    Harley Benton    SC-1000 SBK Progressive Line    175\n",
      "1    Harley Benton  Electric Guitar Kit Single Cut     87\n",
      "2    Harley Benton        SC-450 BK Classic Series    123\n",
      "3    Harley Benton    SC-450 P90 GT Classic Series    132\n",
      "4    Harley Benton    SC-450Plus HB Vintage Series    158\n",
      "..             ...                             ...    ...\n",
      "586            ESP  E-II Eclipse Snow Whit B-Stock  1,939\n",
      "587        Gretsch  G2210 Streaml. Jr. Jet B-Stock    229\n",
      "588        Gretsch  G6128T-53 VS Duo Jet B B-Stock  2,399\n",
      "589            ESP  LTD EC-1000FR Black Sa B-Stock  1,025\n",
      "590  Harley Benton  SC-200 BK Student Serie Bundle    211\n",
      "\n",
      "[591 rows x 3 columns]\n"
     ]
    }
   ],
   "source": [
    "#import packages\n",
    "\n",
    "import pandas as pd\n",
    "import numpy as np\n",
    "\n",
    "# load in data from guitars.csv\n",
    "\n",
    "guitars_df = pd.read_csv(\"guitars.csv\")\n",
    "print(guitars_df)\n",
    "\n",
    "\n"
   ]
  },
  {
   "cell_type": "code",
   "execution_count": 8,
   "metadata": {},
   "outputs": [
    {
     "data": {
      "text/plain": [
       "['manufacturer', 'title', 'price']"
      ]
     },
     "execution_count": 8,
     "metadata": {},
     "output_type": "execute_result"
    }
   ],
   "source": [
    "# list columns\n",
    "\n",
    "list(guitars_df.columns.values)"
   ]
  },
  {
   "cell_type": "code",
   "execution_count": 10,
   "metadata": {},
   "outputs": [
    {
     "data": {
      "text/plain": [
       "(591, 3)"
      ]
     },
     "execution_count": 10,
     "metadata": {},
     "output_type": "execute_result"
    }
   ],
   "source": [
    "# get the number of rows and columns\n",
    "\n",
    "guitars_df.shape"
   ]
  },
  {
   "cell_type": "code",
   "execution_count": 11,
   "metadata": {},
   "outputs": [
    {
     "name": "stdout",
     "output_type": "stream",
     "text": [
      "<class 'pandas.core.frame.DataFrame'>\n",
      "RangeIndex: 591 entries, 0 to 590\n",
      "Data columns (total 3 columns):\n",
      " #   Column        Non-Null Count  Dtype \n",
      "---  ------        --------------  ----- \n",
      " 0   manufacturer  591 non-null    object\n",
      " 1   title         591 non-null    object\n",
      " 2   price         591 non-null    object\n",
      "dtypes: object(3)\n",
      "memory usage: 14.0+ KB\n"
     ]
    }
   ],
   "source": [
    "#  list the data types of the columns\n",
    "\n",
    "guitars_df.info()\n"
   ]
  },
  {
   "cell_type": "code",
   "execution_count": 12,
   "metadata": {},
   "outputs": [
    {
     "data": {
      "text/plain": [
       "manufacturer    0\n",
       "title           0\n",
       "price           0\n",
       "dtype: int64"
      ]
     },
     "execution_count": 12,
     "metadata": {},
     "output_type": "execute_result"
    }
   ],
   "source": [
    "# get the # of missing records per columns\n",
    "\n",
    "guitars_df.isnull().sum().sort_values(ascending=False)\n"
   ]
  },
  {
   "cell_type": "code",
   "execution_count": 13,
   "metadata": {},
   "outputs": [
    {
     "data": {
      "text/html": [
       "<div>\n",
       "<style scoped>\n",
       "    .dataframe tbody tr th:only-of-type {\n",
       "        vertical-align: middle;\n",
       "    }\n",
       "\n",
       "    .dataframe tbody tr th {\n",
       "        vertical-align: top;\n",
       "    }\n",
       "\n",
       "    .dataframe thead th {\n",
       "        text-align: right;\n",
       "    }\n",
       "</style>\n",
       "<table border=\"1\" class=\"dataframe\">\n",
       "  <thead>\n",
       "    <tr style=\"text-align: right;\">\n",
       "      <th></th>\n",
       "      <th>manufacturer</th>\n",
       "      <th>title</th>\n",
       "      <th>price</th>\n",
       "    </tr>\n",
       "  </thead>\n",
       "  <tbody>\n",
       "    <tr>\n",
       "      <th>0</th>\n",
       "      <td>Harley Benton</td>\n",
       "      <td>SC-1000 SBK Progressive Line</td>\n",
       "      <td>175</td>\n",
       "    </tr>\n",
       "    <tr>\n",
       "      <th>1</th>\n",
       "      <td>Harley Benton</td>\n",
       "      <td>Electric Guitar Kit Single Cut</td>\n",
       "      <td>87</td>\n",
       "    </tr>\n",
       "    <tr>\n",
       "      <th>2</th>\n",
       "      <td>Harley Benton</td>\n",
       "      <td>SC-450 BK Classic Series</td>\n",
       "      <td>123</td>\n",
       "    </tr>\n",
       "    <tr>\n",
       "      <th>3</th>\n",
       "      <td>Harley Benton</td>\n",
       "      <td>SC-450 P90 GT Classic Series</td>\n",
       "      <td>132</td>\n",
       "    </tr>\n",
       "    <tr>\n",
       "      <th>4</th>\n",
       "      <td>Harley Benton</td>\n",
       "      <td>SC-450Plus HB Vintage Series</td>\n",
       "      <td>158</td>\n",
       "    </tr>\n",
       "    <tr>\n",
       "      <th>...</th>\n",
       "      <td>...</td>\n",
       "      <td>...</td>\n",
       "      <td>...</td>\n",
       "    </tr>\n",
       "    <tr>\n",
       "      <th>586</th>\n",
       "      <td>ESP</td>\n",
       "      <td>E-II Eclipse Snow Whit B-Stock</td>\n",
       "      <td>1,939</td>\n",
       "    </tr>\n",
       "    <tr>\n",
       "      <th>587</th>\n",
       "      <td>Gretsch</td>\n",
       "      <td>G2210 Streaml. Jr. Jet B-Stock</td>\n",
       "      <td>229</td>\n",
       "    </tr>\n",
       "    <tr>\n",
       "      <th>588</th>\n",
       "      <td>Gretsch</td>\n",
       "      <td>G6128T-53 VS Duo Jet B B-Stock</td>\n",
       "      <td>2,399</td>\n",
       "    </tr>\n",
       "    <tr>\n",
       "      <th>589</th>\n",
       "      <td>ESP</td>\n",
       "      <td>LTD EC-1000FR Black Sa B-Stock</td>\n",
       "      <td>1,025</td>\n",
       "    </tr>\n",
       "    <tr>\n",
       "      <th>590</th>\n",
       "      <td>Harley Benton</td>\n",
       "      <td>SC-200 BK Student Serie Bundle</td>\n",
       "      <td>211</td>\n",
       "    </tr>\n",
       "  </tbody>\n",
       "</table>\n",
       "<p>591 rows × 3 columns</p>\n",
       "</div>"
      ],
      "text/plain": [
       "      manufacturer                           title  price\n",
       "0    Harley Benton    SC-1000 SBK Progressive Line    175\n",
       "1    Harley Benton  Electric Guitar Kit Single Cut     87\n",
       "2    Harley Benton        SC-450 BK Classic Series    123\n",
       "3    Harley Benton    SC-450 P90 GT Classic Series    132\n",
       "4    Harley Benton    SC-450Plus HB Vintage Series    158\n",
       "..             ...                             ...    ...\n",
       "586            ESP  E-II Eclipse Snow Whit B-Stock  1,939\n",
       "587        Gretsch  G2210 Streaml. Jr. Jet B-Stock    229\n",
       "588        Gretsch  G6128T-53 VS Duo Jet B B-Stock  2,399\n",
       "589            ESP  LTD EC-1000FR Black Sa B-Stock  1,025\n",
       "590  Harley Benton  SC-200 BK Student Serie Bundle    211\n",
       "\n",
       "[591 rows x 3 columns]"
      ]
     },
     "execution_count": 13,
     "metadata": {},
     "output_type": "execute_result"
    }
   ],
   "source": [
    "# preview data\n",
    "\n",
    "guitars_df"
   ]
  }
 ],
 "metadata": {
  "kernelspec": {
   "display_name": "venv",
   "language": "python",
   "name": "python3"
  },
  "language_info": {
   "codemirror_mode": {
    "name": "ipython",
    "version": 3
   },
   "file_extension": ".py",
   "mimetype": "text/x-python",
   "name": "python",
   "nbconvert_exporter": "python",
   "pygments_lexer": "ipython3",
   "version": "3.10.10"
  },
  "orig_nbformat": 4
 },
 "nbformat": 4,
 "nbformat_minor": 2
}
