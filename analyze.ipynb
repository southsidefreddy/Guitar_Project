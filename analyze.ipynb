{
 "cells": [
  {
   "cell_type": "code",
   "execution_count": 1,
   "metadata": {},
   "outputs": [
    {
     "name": "stdout",
     "output_type": "stream",
     "text": [
      "      manufacturer                           title  price\n",
      "0    Harley Benton    SC-1000 SBK Progressive Line    175\n",
      "1    Harley Benton  Electric Guitar Kit Single Cut     87\n",
      "2    Harley Benton        SC-450 BK Classic Series    123\n",
      "3    Harley Benton    SC-450 P90 GT Classic Series    132\n",
      "4    Harley Benton    SC-450Plus HB Vintage Series    158\n",
      "..             ...                             ...    ...\n",
      "586            ESP  E-II Eclipse Snow Whit B-Stock  1,939\n",
      "587        Gretsch  G2210 Streaml. Jr. Jet B-Stock    229\n",
      "588        Gretsch  G6128T-53 VS Duo Jet B B-Stock  2,399\n",
      "589            ESP  LTD EC-1000FR Black Sa B-Stock  1,025\n",
      "590  Harley Benton  SC-200 BK Student Serie Bundle    211\n",
      "\n",
      "[591 rows x 3 columns]\n"
     ]
    }
   ],
   "source": [
    "import pandas as pd\n",
    "import numpy as np\n",
    "from pathlib import Path\n",
    "import logging\n",
    "\n",
    "\n",
    "price_df = pd.read_csv(\"guitars.csv\")\n",
    "print(price_df)\n",
    "\n",
    "\n"
   ]
  },
  {
   "attachments": {},
   "cell_type": "markdown",
   "metadata": {},
   "source": [
    "## Which manufacturer produces the most expensive guitars?"
   ]
  },
  {
   "cell_type": "code",
   "execution_count": 2,
   "metadata": {},
   "outputs": [
    {
     "name": "stdout",
     "output_type": "stream",
     "text": [
      "      manufacturer                           title  price\n",
      "0    Harley Benton    SC-1000 SBK Progressive Line    175\n",
      "1    Harley Benton  Electric Guitar Kit Single Cut     87\n",
      "2    Harley Benton        SC-450 BK Classic Series    123\n",
      "3    Harley Benton    SC-450 P90 GT Classic Series    132\n",
      "4    Harley Benton    SC-450Plus HB Vintage Series    158\n",
      "..             ...                             ...    ...\n",
      "586            ESP  E-II Eclipse Snow Whit B-Stock   1939\n",
      "587        Gretsch  G2210 Streaml. Jr. Jet B-Stock    229\n",
      "588        Gretsch  G6128T-53 VS Duo Jet B B-Stock   2399\n",
      "589            ESP  LTD EC-1000FR Black Sa B-Stock   1025\n",
      "590  Harley Benton  SC-200 BK Student Serie Bundle    211\n",
      "\n",
      "[591 rows x 3 columns]\n"
     ]
    }
   ],
   "source": [
    "# convert price column to numeric data\n",
    "\n",
    "price_df['price'] = price_df['price'].str.replace(',', '').astype(int)\n",
    "\n",
    "\n",
    "\n",
    "print(price_df)\n"
   ]
  },
  {
   "cell_type": "code",
   "execution_count": 3,
   "metadata": {},
   "outputs": [
    {
     "name": "stdout",
     "output_type": "stream",
     "text": [
      "<class 'pandas.core.frame.DataFrame'>\n",
      "RangeIndex: 591 entries, 0 to 590\n",
      "Data columns (total 3 columns):\n",
      " #   Column        Non-Null Count  Dtype \n",
      "---  ------        --------------  ----- \n",
      " 0   manufacturer  591 non-null    object\n",
      " 1   title         591 non-null    object\n",
      " 2   price         591 non-null    int32 \n",
      "dtypes: int32(1), object(2)\n",
      "memory usage: 11.7+ KB\n"
     ]
    }
   ],
   "source": [
    "# check price data type\n",
    "\n",
    "price_df.info()"
   ]
  },
  {
   "cell_type": "code",
   "execution_count": 4,
   "metadata": {},
   "outputs": [
    {
     "name": "stdout",
     "output_type": "stream",
     "text": [
      "      manufacturer                           title  price\n",
      "537         Gibson   Les Paul 59 Murphy Lab DB UHA  11519\n",
      "408         Gibson               Les Paul 59 LB HA  11519\n",
      "555         Gibson   Les Paul 59 Kindred Burst UHA   8899\n",
      "307         Gibson   Les Paul 59 Kindred Burst UHA   8899\n",
      "415         Gibson      Les Paul 59 Lemonburst UHA   8859\n",
      "..             ...                             ...    ...\n",
      "378  Harley Benton  SC-450 P90 GT Classic  B-Stock    108\n",
      "319  Harley Benton      SC-200LH BK Student Series    105\n",
      "99   Harley Benton        SC-200 BK Student Series     96\n",
      "1    Harley Benton  Electric Guitar Kit Single Cut     87\n",
      "433  Harley Benton  SC-200LH BK Student Se B-Stock     86\n",
      "\n",
      "[591 rows x 3 columns]\n"
     ]
    }
   ],
   "source": [
    "# list most expensive guitars and least expensive guitars\n",
    "\n",
    "price_df = price_df.sort_values(['price'], ascending=[False])\n",
    "print(price_df)\n",
    "\n",
    "\n"
   ]
  },
  {
   "cell_type": "code",
   "execution_count": 5,
   "metadata": {},
   "outputs": [
    {
     "data": {
      "text/html": [
       "<div>\n",
       "<style scoped>\n",
       "    .dataframe tbody tr th:only-of-type {\n",
       "        vertical-align: middle;\n",
       "    }\n",
       "\n",
       "    .dataframe tbody tr th {\n",
       "        vertical-align: top;\n",
       "    }\n",
       "\n",
       "    .dataframe thead th {\n",
       "        text-align: right;\n",
       "    }\n",
       "</style>\n",
       "<table border=\"1\" class=\"dataframe\">\n",
       "  <thead>\n",
       "    <tr style=\"text-align: right;\">\n",
       "      <th></th>\n",
       "      <th>manufacturer</th>\n",
       "      <th>price</th>\n",
       "    </tr>\n",
       "  </thead>\n",
       "  <tbody>\n",
       "    <tr>\n",
       "      <th>537</th>\n",
       "      <td>Gibson</td>\n",
       "      <td>11519</td>\n",
       "    </tr>\n",
       "    <tr>\n",
       "      <th>408</th>\n",
       "      <td>Gibson</td>\n",
       "      <td>11519</td>\n",
       "    </tr>\n",
       "    <tr>\n",
       "      <th>555</th>\n",
       "      <td>Gibson</td>\n",
       "      <td>8899</td>\n",
       "    </tr>\n",
       "    <tr>\n",
       "      <th>307</th>\n",
       "      <td>Gibson</td>\n",
       "      <td>8899</td>\n",
       "    </tr>\n",
       "    <tr>\n",
       "      <th>415</th>\n",
       "      <td>Gibson</td>\n",
       "      <td>8859</td>\n",
       "    </tr>\n",
       "    <tr>\n",
       "      <th>437</th>\n",
       "      <td>Gibson</td>\n",
       "      <td>8859</td>\n",
       "    </tr>\n",
       "    <tr>\n",
       "      <th>501</th>\n",
       "      <td>Gibson</td>\n",
       "      <td>8595</td>\n",
       "    </tr>\n",
       "    <tr>\n",
       "      <th>445</th>\n",
       "      <td>Gibson</td>\n",
       "      <td>8595</td>\n",
       "    </tr>\n",
       "    <tr>\n",
       "      <th>448</th>\n",
       "      <td>Gibson</td>\n",
       "      <td>7969</td>\n",
       "    </tr>\n",
       "    <tr>\n",
       "      <th>584</th>\n",
       "      <td>Gretsch</td>\n",
       "      <td>7795</td>\n",
       "    </tr>\n",
       "  </tbody>\n",
       "</table>\n",
       "</div>"
      ],
      "text/plain": [
       "    manufacturer  price\n",
       "537       Gibson  11519\n",
       "408       Gibson  11519\n",
       "555       Gibson   8899\n",
       "307       Gibson   8899\n",
       "415       Gibson   8859\n",
       "437       Gibson   8859\n",
       "501       Gibson   8595\n",
       "445       Gibson   8595\n",
       "448       Gibson   7969\n",
       "584      Gretsch   7795"
      ]
     },
     "execution_count": 5,
     "metadata": {},
     "output_type": "execute_result"
    }
   ],
   "source": [
    "# remove title column and show highest prices\n",
    "\n",
    "price_df.drop('title', axis=1).head(10)\n"
   ]
  },
  {
   "cell_type": "code",
   "execution_count": 6,
   "metadata": {},
   "outputs": [
    {
     "data": {
      "text/html": [
       "<div>\n",
       "<style scoped>\n",
       "    .dataframe tbody tr th:only-of-type {\n",
       "        vertical-align: middle;\n",
       "    }\n",
       "\n",
       "    .dataframe tbody tr th {\n",
       "        vertical-align: top;\n",
       "    }\n",
       "\n",
       "    .dataframe thead th {\n",
       "        text-align: right;\n",
       "    }\n",
       "</style>\n",
       "<table border=\"1\" class=\"dataframe\">\n",
       "  <thead>\n",
       "    <tr style=\"text-align: right;\">\n",
       "      <th></th>\n",
       "      <th>manufacturer</th>\n",
       "      <th>price</th>\n",
       "    </tr>\n",
       "  </thead>\n",
       "  <tbody>\n",
       "    <tr>\n",
       "      <th>353</th>\n",
       "      <td>Harley Benton</td>\n",
       "      <td>128</td>\n",
       "    </tr>\n",
       "    <tr>\n",
       "      <th>164</th>\n",
       "      <td>Harley Benton</td>\n",
       "      <td>123</td>\n",
       "    </tr>\n",
       "    <tr>\n",
       "      <th>2</th>\n",
       "      <td>Harley Benton</td>\n",
       "      <td>123</td>\n",
       "    </tr>\n",
       "    <tr>\n",
       "      <th>465</th>\n",
       "      <td>Harley Benton</td>\n",
       "      <td>114</td>\n",
       "    </tr>\n",
       "    <tr>\n",
       "      <th>12</th>\n",
       "      <td>Harley Benton</td>\n",
       "      <td>114</td>\n",
       "    </tr>\n",
       "    <tr>\n",
       "      <th>378</th>\n",
       "      <td>Harley Benton</td>\n",
       "      <td>108</td>\n",
       "    </tr>\n",
       "    <tr>\n",
       "      <th>319</th>\n",
       "      <td>Harley Benton</td>\n",
       "      <td>105</td>\n",
       "    </tr>\n",
       "    <tr>\n",
       "      <th>99</th>\n",
       "      <td>Harley Benton</td>\n",
       "      <td>96</td>\n",
       "    </tr>\n",
       "    <tr>\n",
       "      <th>1</th>\n",
       "      <td>Harley Benton</td>\n",
       "      <td>87</td>\n",
       "    </tr>\n",
       "    <tr>\n",
       "      <th>433</th>\n",
       "      <td>Harley Benton</td>\n",
       "      <td>86</td>\n",
       "    </tr>\n",
       "  </tbody>\n",
       "</table>\n",
       "</div>"
      ],
      "text/plain": [
       "      manufacturer  price\n",
       "353  Harley Benton    128\n",
       "164  Harley Benton    123\n",
       "2    Harley Benton    123\n",
       "465  Harley Benton    114\n",
       "12   Harley Benton    114\n",
       "378  Harley Benton    108\n",
       "319  Harley Benton    105\n",
       "99   Harley Benton     96\n",
       "1    Harley Benton     87\n",
       "433  Harley Benton     86"
      ]
     },
     "execution_count": 6,
     "metadata": {},
     "output_type": "execute_result"
    }
   ],
   "source": [
    "# remove title columns and show lowest prices\n",
    "\n",
    "price_df.drop('title', axis=1).tail(10)\n"
   ]
  },
  {
   "cell_type": "code",
   "execution_count": 7,
   "metadata": {},
   "outputs": [
    {
     "data": {
      "text/plain": [
       "1738.34179357022"
      ]
     },
     "execution_count": 7,
     "metadata": {},
     "output_type": "execute_result"
    }
   ],
   "source": [
    "#  get the average of dataframe\n",
    "\n",
    "price_df['price'].mean()"
   ]
  }
 ],
 "metadata": {
  "kernelspec": {
   "display_name": "venv",
   "language": "python",
   "name": "python3"
  },
  "language_info": {
   "codemirror_mode": {
    "name": "ipython",
    "version": 3
   },
   "file_extension": ".py",
   "mimetype": "text/x-python",
   "name": "python",
   "nbconvert_exporter": "python",
   "pygments_lexer": "ipython3",
   "version": "3.10.10"
  },
  "orig_nbformat": 4
 },
 "nbformat": 4,
 "nbformat_minor": 2
}
